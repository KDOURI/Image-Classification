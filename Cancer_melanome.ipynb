{
 "cells": [
  {
   "cell_type": "code",
   "execution_count": 1,
   "metadata": {},
   "outputs": [],
   "source": [
    "import numpy as np\n",
    "import pandas as pd\n",
    "import mahotas as mh\n",
    "import matplotlib.pyplot as plt\n",
    "import cv2 \n",
    "import os\n",
    "import csv\n",
    "import glob\n",
    "import skimage\n",
    "import itertools\n",
    "from scipy import stats\n",
    "from scipy.stats import zscore\n",
    "from skimage.feature import greycomatrix, greycoprops\n",
    "from sklearn import preprocessing\n",
    "from sklearn.model_selection import train_test_split\n",
    "from sklearn.metrics import  accuracy_score\n",
    "from sklearn.metrics import classification_report,confusion_matrix\n",
    "from sklearn.ensemble import RandomForestClassifier\n",
    "from sklearn.svm import SVC\n",
    "from sklearn.neighbors import KNeighborsClassifier\n",
    "from sklearn.naive_bayes import MultinomialNB\n",
    "from sklearn.tree import DecisionTreeClassifier"
   ]
  },
  {
   "cell_type": "markdown",
   "metadata": {},
   "source": [
    "# Extraction de caractéristiques (Feature extraction)"
   ]
  },
  {
   "cell_type": "markdown",
   "metadata": {},
   "source": [
    "-------------------------------------------------------------------------------------------------------------------------------\n",
    "- à l'aide des algorithmes de traitement d'images\n",
    "_______________________________________________________________________________________________________________________________\n",
    "-------------------------------------------------------------------------------------------------------------------------------\n",
    "\n",
    "    Descripteur 1: Les moments statistiques de couleur\n",
    "    Descripteur 2: La forme\n",
    "    Descripteur 3 : Histogramme {espace HSV}\n",
    "    Descripteur 4 : Texture ( GLCM, [Homogeneity, Correlation, Contrast, Energy])\n",
    "-------------------------------------------------------------------------------------------------------------------------------\n",
    "_______________________________________________________________________________________________________________________________"
   ]
  },
  {
   "cell_type": "code",
   "execution_count": 2,
   "metadata": {},
   "outputs": [],
   "source": [
    "def colorf(image):\n",
    "    \n",
    "    '''Fonction affiche la caractéristique coleur de taille 1x6'''\n",
    "    \n",
    "    R = image[:,:,0]\n",
    "    G = image[:,:,1]\n",
    "    B = image[:,:,2]\n",
    "    colorFeature = [\n",
    "        np.mean(R), np.std(R),\n",
    "        np.mean(G), np.std(G),\n",
    "        np.mean(B), np.std(B)\n",
    "    ]\n",
    "    colorFeature = np.asarray(colorFeature)\n",
    "    return colorFeature"
   ]
  },
  {
   "cell_type": "code",
   "execution_count": 3,
   "metadata": {},
   "outputs": [],
   "source": [
    "def formef(image):\n",
    "    \n",
    "    '''Fonction affiche la caractéristique forme de taille 1x7 utilisé sera créé à partir des moments invariants de Hu'''\n",
    "    \n",
    "    #converture l'image en RGB\n",
    "    image = cv2.cvtColor(image, cv2.COLOR_BGR2GRAY)\n",
    "    # extraire les moments invariants de Hu.\n",
    "    shape = cv2.HuMoments(cv2.moments(image)).flatten()\n",
    "    feature = -np.sign(shape) * np.log10(np.abs(shape))\n",
    "    return feature"
   ]
  },
  {
   "cell_type": "code",
   "execution_count": 4,
   "metadata": {},
   "outputs": [],
   "source": [
    "def hsvHistogramf(img):\n",
    "    \n",
    "    '''Fonction affiche la caractéristique Histogramme de taille 1x32 pour les composantes : (Hue) le nivaux choisi est 8\n",
    "    pour (saturation) est 2 et pour (value) 2'''\n",
    "    \n",
    "    rows, cols, numOfBands = img.shape[:]\n",
    "    # Convertir de RGB image en HSV \n",
    "    img = cv2.cvtColor(img, cv2.COLOR_RGB2HSV)\n",
    "    # Extraire les 3 composantes\n",
    "    h = img[:,:,0]\n",
    "    s = img[:,:,1]\n",
    "    v = img[:,:,2]\n",
    "    numberOfLevelsForH = 8 \n",
    "    numberOfLevelsForS = 2 \n",
    "    numberOfLevelsForV = 2\n",
    "    # calcule de maximum valeur de chaque composante\n",
    "    maxValueForH = np.max(h)\n",
    "    maxValueForS = np.max(s)\n",
    "    maxValueForV = np.max(v)\n",
    "    # crér la matrice sur l'aquelle on stocke les valeurs de l'histogramme\n",
    "    hsvColor_Histogram = np.zeros((8, 2, 2))\n",
    "    quantizedValueForH = np.ceil( h.dot(numberOfLevelsForH) / maxValueForH)\n",
    "    quantizedValueForS = np.ceil( s.dot(numberOfLevelsForS) / maxValueForS)\n",
    "    quantizedValueForV = np.ceil( v.dot(numberOfLevelsForV) / maxValueForV)\n",
    "    index = np.zeros((rows*cols, 3))\n",
    "    index[:,0] = quantizedValueForH.reshape(1,-1).reshape(1,quantizedValueForH.shape[0] * quantizedValueForH.shape[1]) \n",
    "    index[:,1] = quantizedValueForS.reshape(1,-1).reshape(1,quantizedValueForS.shape[0] * quantizedValueForS.shape[1]) \n",
    "    index[:,2] = quantizedValueForV.reshape(1,-1).reshape(1,quantizedValueForV.shape[0] * quantizedValueForV.shape[1])\n",
    "    k=0\n",
    "    for row in range(len(index[:,0])):\n",
    "        if index[row,0] == 0 or index[row,1] == 0 or index[row,2] == 0:\n",
    "            k+=1\n",
    "            continue\n",
    "        hsvColor_Histogram[int(index[row,0])-1,int(index[row,1])-1,int(index[row,2])-1] = hsvColor_Histogram[int(index[row,0])-1,int(index[row,1])-1,int(index[row,2])-1] + 1\n",
    "    hsvColor_Histogram = hsvColor_Histogram[:].reshape(1,-1)\n",
    "    # Reshape 1*32\n",
    "    return hsvColor_Histogram.reshape(-1)"
   ]
  },
  {
   "cell_type": "code",
   "execution_count": 5,
   "metadata": {},
   "outputs": [],
   "source": [
    "def texturef(image):\n",
    "    \n",
    "    '''Fonction affiche la caractéristique texture de taille 1x4'''\n",
    "    \n",
    "    image = cv2.cvtColor(image, cv2.COLOR_BGR2GRAY)\n",
    "    image = skimage.img_as_ubyte(image)\n",
    "    #Calcule de matrice GLCM\n",
    "    glcm = greycomatrix(image, [1], [0], 256, symmetric=True, normed=True)\n",
    "    # extraction des moments statistiques [Homogeneity, Correlation, Contrast, Energie.]\n",
    "    feature = greycoprops(glcm, 'dissimilarity')[0]\n",
    "    feature = np.concatenate([feature,greycoprops(glcm, 'correlation')[0]])\n",
    "    feature = np.concatenate([feature,greycoprops(glcm, 'contrast')[0]])\n",
    "    feature = np.concatenate([feature,greycoprops(glcm, 'energy')[0]])\n",
    "    return feature"
   ]
  },
  {
   "cell_type": "code",
   "execution_count": 6,
   "metadata": {},
   "outputs": [],
   "source": [
    "def extract_feature_from_data(folder):\n",
    "    \n",
    "    '''Fonction affiche la matrice des caractéristiques pour les données d'apprentissage '''\n",
    "    \n",
    "    train_y = []\n",
    "    y = pd.read_csv(folder+'.csv')\n",
    "    y.set_index('image_id',inplace=True)\n",
    "    i = 0\n",
    "    for filename in os.listdir(os.path.join(folder)):\n",
    "        train_y.append(y.loc[filename.replace(\".jpg\", \"\")].values[0])\n",
    "        \n",
    "        im = cv2.imread(os.path.join(os.path.join(folder),filename))\n",
    "        # l'extraction des caractéristiques\n",
    "        #Descripteur 1 : mean_std compose de 6 caractéristiques\n",
    "        vecteur1 = colorf(im)\n",
    "        #Descripteur 2 : forme compose de 7 caractéristiques\n",
    "        vecteur2 = formef(im)\n",
    "        #Descripteur 3 : histogramme compse de 32 caractéristiques\n",
    "        vecteur3 = hsvHistogramf(im)\n",
    "        #Descriprteur 4 : texture compose de 4 caractéristiques\n",
    "        vecteur4 = texturef(im)\n",
    "        # Vecteur descripteur\n",
    "        feature=np.hstack((vecteur1, vecteur2, vecteur3, vecteur4))\n",
    "        if i==0:\n",
    "            features = np.zeros(feature.shape[0])\n",
    "            i=i+1\n",
    "        features = np.vstack((features,feature))\n",
    "    return np.delete(features, (0), axis=0),np.asarray(train_y)"
   ]
  },
  {
   "cell_type": "markdown",
   "metadata": {},
   "source": [
    "# Training"
   ]
  },
  {
   "cell_type": "markdown",
   "metadata": {},
   "source": [
    "_______________________________________________________________________________________________________________________________"
   ]
  },
  {
   "cell_type": "code",
   "execution_count": 7,
   "metadata": {},
   "outputs": [],
   "source": [
    "# L'extraction des caractéristiques de la base d'apprentissage\n",
    "train_features, train_labels = extract_feature_from_data('Training')"
   ]
  },
  {
   "cell_type": "code",
   "execution_count": 10,
   "metadata": {},
   "outputs": [],
   "source": [
    "X_train, y_train = np.array(training_features), np.array(training_labels)"
   ]
  },
  {
   "cell_type": "code",
   "execution_count": 12,
   "metadata": {},
   "outputs": [
    {
     "data": {
      "text/plain": [
       "(2000, 49)"
      ]
     },
     "execution_count": 12,
     "metadata": {},
     "output_type": "execute_result"
    }
   ],
   "source": [
    "X_train.shape"
   ]
  },
  {
   "cell_type": "code",
   "execution_count": 13,
   "metadata": {},
   "outputs": [],
   "source": [
    "# Normalization de matrice des caractéristiques en utilisant la méthode Z-score\n",
    "scaler = preprocessing.StandardScaler()\n",
    "X_train_scale = scaler.fit_transform(X_train)"
   ]
  },
  {
   "cell_type": "markdown",
   "metadata": {},
   "source": [
    "# Validation\n",
    "\n",
    "_______________________________________________________________________________________________________________________________"
   ]
  },
  {
   "cell_type": "code",
   "execution_count": 14,
   "metadata": {},
   "outputs": [],
   "source": [
    "# L'extraction des caractéristiques de la base de validation\n",
    "valid_features, valid_labels = extract_feature_from_data('Validation')"
   ]
  },
  {
   "cell_type": "code",
   "execution_count": 15,
   "metadata": {},
   "outputs": [],
   "source": [
    "X_valid, y_valid = np.array(valid_features), np.array(valid_labels)"
   ]
  },
  {
   "cell_type": "code",
   "execution_count": 16,
   "metadata": {},
   "outputs": [
    {
     "data": {
      "text/plain": [
       "(150, 49)"
      ]
     },
     "execution_count": 16,
     "metadata": {},
     "output_type": "execute_result"
    }
   ],
   "source": [
    "X_valid.shape"
   ]
  },
  {
   "cell_type": "code",
   "execution_count": 17,
   "metadata": {},
   "outputs": [],
   "source": [
    "# Normalization de matrice des caractéristiques en utilisant la méthode Z-score\n",
    "X_valid_scale = scaler.fit_transform(X_valid)"
   ]
  },
  {
   "cell_type": "markdown",
   "metadata": {},
   "source": [
    "-------------------------------------------------------------------------------------------------------------------------------\n",
    "_______________________________________________________________________________________________________________________________\n",
    "\n",
    "# Entrainer le modéle par différents classificateurs\n",
    "-------------------------------------------------------------------------------------------------------------------------------\n",
    "- à l'aide des algorithmes de DATA-MINING\n",
    "-------------------------------------------------------------------------------------------------------------------------------"
   ]
  },
  {
   "cell_type": "markdown",
   "metadata": {},
   "source": [
    "-------------------------------------------------------------------------------------------------------------------------------\n",
    "##### K-Nearest Neighbors Classifier\n",
    "-------------------------------------------------------------------------------------------------------------------------------"
   ]
  },
  {
   "cell_type": "code",
   "execution_count": 20,
   "metadata": {},
   "outputs": [
    {
     "data": {
      "text/plain": [
       "KNeighborsClassifier(algorithm='auto', leaf_size=30, metric='minkowski',\n",
       "                     metric_params=None, n_jobs=None, n_neighbors=5, p=2,\n",
       "                     weights='distance')"
      ]
     },
     "execution_count": 20,
     "metadata": {},
     "output_type": "execute_result"
    }
   ],
   "source": [
    "knn = KNeighborsClassifier(n_neighbors = 5, weights = 'distance')\n",
    "knn.fit(X_train_scale, y_train)"
   ]
  },
  {
   "cell_type": "code",
   "execution_count": 23,
   "metadata": {},
   "outputs": [
    {
     "name": "stdout",
     "output_type": "stream",
     "text": [
      "accuracy of knn is 0.8\n",
      "              precision    recall  f1-score   support\n",
      "\n",
      "         0.0       0.99      0.80      0.89       148\n",
      "         1.0       0.03      0.50      0.06         2\n",
      "\n",
      "    accuracy                           0.80       150\n",
      "   macro avg       0.51      0.65      0.48       150\n",
      "weighted avg       0.98      0.80      0.88       150\n",
      "\n"
     ]
    }
   ],
   "source": [
    "knn_y = knn.predict(X_valid)\n",
    "print(\"accuracy of knn is\",accuracy_score(knn_y, y_valid))\n",
    "print(classification_report(knn_y, y_valid))"
   ]
  },
  {
   "cell_type": "markdown",
   "metadata": {},
   "source": [
    "-------------------------------------------------------------------------------------------------------------------------------\n",
    "##### Random forest : Modèle de Forêt d'arbres décisionnels\n",
    "-------------------------------------------------------------------------------------------------------------------------------"
   ]
  },
  {
   "cell_type": "code",
   "execution_count": 24,
   "metadata": {},
   "outputs": [
    {
     "name": "stderr",
     "output_type": "stream",
     "text": [
      "C:\\Users\\Pc\\Anaconda3\\lib\\site-packages\\sklearn\\ensemble\\forest.py:245: FutureWarning: The default value of n_estimators will change from 10 in version 0.20 to 100 in 0.22.\n",
      "  \"10 in version 0.20 to 100 in 0.22.\", FutureWarning)\n"
     ]
    },
    {
     "data": {
      "text/plain": [
       "RandomForestClassifier(bootstrap=True, class_weight=None, criterion='gini',\n",
       "                       max_depth=None, max_features='auto', max_leaf_nodes=None,\n",
       "                       min_impurity_decrease=0.0, min_impurity_split=None,\n",
       "                       min_samples_leaf=1, min_samples_split=2,\n",
       "                       min_weight_fraction_leaf=0.0, n_estimators=10,\n",
       "                       n_jobs=None, oob_score=False, random_state=None,\n",
       "                       verbose=0, warm_start=False)"
      ]
     },
     "execution_count": 24,
     "metadata": {},
     "output_type": "execute_result"
    }
   ],
   "source": [
    "rfc = RandomForestClassifier()\n",
    "rfc.fit(X_train, y_train)"
   ]
  },
  {
   "cell_type": "code",
   "execution_count": 27,
   "metadata": {},
   "outputs": [
    {
     "name": "stdout",
     "output_type": "stream",
     "text": [
      "accuracy of random forrest is 0.8133333333333334\n",
      "              precision    recall  f1-score   support\n",
      "\n",
      "         0.0       0.98      0.82      0.89       144\n",
      "         1.0       0.13      0.67      0.22         6\n",
      "\n",
      "    accuracy                           0.81       150\n",
      "   macro avg       0.56      0.74      0.56       150\n",
      "weighted avg       0.95      0.81      0.87       150\n",
      "\n"
     ]
    }
   ],
   "source": [
    "rfc_y = rfc.predict(X_valid)\n",
    "print(\"accuracy of random forrest is\", accuracy_score(rfc_y, y_valid))\n",
    "print(classification_report(rfc_y, y_valid))"
   ]
  },
  {
   "cell_type": "markdown",
   "metadata": {},
   "source": [
    "-------------------------------------------------------------------------------------------------------------------------------\n",
    "##### Support vector machine (SVM)\n",
    "-------------------------------------------------------------------------------------------------------------------------------"
   ]
  },
  {
   "cell_type": "code",
   "execution_count": 40,
   "metadata": {},
   "outputs": [
    {
     "name": "stderr",
     "output_type": "stream",
     "text": [
      "C:\\Users\\Pc\\Anaconda3\\lib\\site-packages\\sklearn\\svm\\base.py:241: ConvergenceWarning: Solver terminated early (max_iter=100000).  Consider pre-processing your data with StandardScaler or MinMaxScaler.\n",
      "  % self.max_iter, ConvergenceWarning)\n"
     ]
    },
    {
     "data": {
      "text/plain": [
       "SVC(C=1.0, cache_size=200, class_weight=None, coef0=0.0,\n",
       "    decision_function_shape='ovr', degree=3, gamma=0.001, kernel='linear',\n",
       "    max_iter=100000, probability=False, random_state=None, shrinking=True,\n",
       "    tol=0.001, verbose=False)"
      ]
     },
     "execution_count": 40,
     "metadata": {},
     "output_type": "execute_result"
    }
   ],
   "source": [
    "svm = SVC(kernel='linear', max_iter=100000, gamma=0.001)\n",
    "svm.fit(X_train_scale, y_train)"
   ]
  },
  {
   "cell_type": "code",
   "execution_count": 41,
   "metadata": {},
   "outputs": [
    {
     "name": "stdout",
     "output_type": "stream",
     "text": [
      "accuracy of svm is 0.7933333333333333\n",
      "              precision    recall  f1-score   support\n",
      "\n",
      "         0.0       0.99      0.80      0.88       149\n",
      "         1.0       0.00      0.00      0.00         1\n",
      "\n",
      "    accuracy                           0.79       150\n",
      "   macro avg       0.50      0.40      0.44       150\n",
      "weighted avg       0.99      0.79      0.88       150\n",
      "\n"
     ]
    }
   ],
   "source": [
    "svm_y = svm.predict(X_valid)\n",
    "print(\"accuracy of svm is\",accuracy_score(svm_y, y_valid))\n",
    "print(classification_report(svm_y, y_valid))"
   ]
  },
  {
   "cell_type": "markdown",
   "metadata": {},
   "source": [
    "-------------------------------------------------------------------------------------------------------------------------------\n",
    "##### Naive Bayes classifiers\n",
    "-------------------------------------------------------------------------------------------------------------------------------"
   ]
  },
  {
   "cell_type": "code",
   "execution_count": 31,
   "metadata": {},
   "outputs": [
    {
     "data": {
      "text/plain": [
       "MultinomialNB(alpha=1.0, class_prior=None, fit_prior=True)"
      ]
     },
     "execution_count": 31,
     "metadata": {},
     "output_type": "execute_result"
    }
   ],
   "source": [
    "nby = MultinomialNB()\n",
    "nby.fit(abs(X_train_scale), y_train)"
   ]
  },
  {
   "cell_type": "code",
   "execution_count": 33,
   "metadata": {},
   "outputs": [
    {
     "name": "stdout",
     "output_type": "stream",
     "text": [
      "accuracy of naive_bayes is 0.7866666666666666\n",
      "              precision    recall  f1-score   support\n",
      "\n",
      "         0.0       0.95      0.81      0.88       140\n",
      "         1.0       0.13      0.40      0.20        10\n",
      "\n",
      "    accuracy                           0.79       150\n",
      "   macro avg       0.54      0.61      0.54       150\n",
      "weighted avg       0.90      0.79      0.83       150\n",
      "\n"
     ]
    }
   ],
   "source": [
    "nby_y = nby.predict(X_valid)\n",
    "print(\"accuracy of naive_bayes is\",accuracy_score(nby_y, y_valid))\n",
    "print(classification_report(nby_y, y_valid))"
   ]
  },
  {
   "cell_type": "markdown",
   "metadata": {},
   "source": [
    "# Test\n",
    "_______________________________________________________________________________________________________________________________"
   ]
  },
  {
   "cell_type": "code",
   "execution_count": 42,
   "metadata": {},
   "outputs": [],
   "source": [
    "def load_features_from_folder_for_test(folder):\n",
    "    i=0\n",
    "\n",
    "    for filename in os.listdir(os.path.join(folder)):\n",
    "        \n",
    "        im = cv2.imread(os.path.join(folder,filename))\n",
    "        # l'extraction des caractéristiques\n",
    "        #Descripteur 1 : mean_std compose de 6 caractéristiques\n",
    "        vecteur1 = colorf(im)\n",
    "        #Descripteur 2 : forme compose de 7 caractéristiques\n",
    "        vecteur2 = formef(im)\n",
    "        #Descripteur 3 : histogramme compse de 32 caractéristiques\n",
    "        vecteur3 = hsvHistogramf(im)\n",
    "        #Descriprteur 4 : texture compose de 4 caractéristiques\n",
    "        vecteur4 = texturef(im)\n",
    "        # Vecteur descripteur\n",
    "        feature=np.hstack((vecteur1, vecteur2, vecteur3, vecteur4))\n",
    "        #feature=np.hstack((shape))\n",
    "        #feature=np.hstack((shape,texture))\n",
    "        if i==0:\n",
    "            features = np.zeros(feature.shape[0])\n",
    "            i=i+1\n",
    "        features = np.vstack((features,feature))\n",
    "\n",
    "    return np.delete(features, (0), axis=0)"
   ]
  },
  {
   "cell_type": "code",
   "execution_count": 43,
   "metadata": {},
   "outputs": [],
   "source": [
    "X_test = load_features_from_folder_for_test(\"Test\")"
   ]
  },
  {
   "cell_type": "code",
   "execution_count": 44,
   "metadata": {},
   "outputs": [
    {
     "data": {
      "text/plain": [
       "(600, 49)"
      ]
     },
     "execution_count": 44,
     "metadata": {},
     "output_type": "execute_result"
    }
   ],
   "source": [
    "X_test.shape"
   ]
  },
  {
   "cell_type": "markdown",
   "metadata": {},
   "source": [
    "-------------------------------------------------------------------------------------------------------------------------------\n",
    "Puisque j'ai obtenu une mielleur accuracy à l'aide de classifeur forêt aléatoire je le utilise pour tester mon le Test.\n",
    "--------------------------------------------------------------------------------------------------------------------------------------\n",
    "_______________________________________________________________________________________________________________________________"
   ]
  },
  {
   "cell_type": "code",
   "execution_count": 45,
   "metadata": {},
   "outputs": [],
   "source": [
    "test_rfc = rfc.predict(X_test)"
   ]
  },
  {
   "cell_type": "code",
   "execution_count": 46,
   "metadata": {},
   "outputs": [
    {
     "data": {
      "text/plain": [
       "array([0., 0., 0., 0., 0., 1., 1., 0., 0., 0., 0., 0., 0., 0., 0., 0., 0.,\n",
       "       0., 0., 0., 0., 0., 0., 0., 0., 0., 0., 0., 0., 0., 0., 0., 0., 0.,\n",
       "       0., 0., 0., 0., 0., 0., 0., 0., 0., 0., 0., 0., 0., 0., 0., 0., 0.,\n",
       "       0., 0., 0., 0., 0., 0., 0., 0., 0., 0., 0., 0., 0., 0., 0., 0., 1.,\n",
       "       0., 0., 0., 0., 0., 0., 0., 0., 0., 0., 0., 0., 0., 0., 0., 0., 0.,\n",
       "       0., 0., 0., 0., 0., 0., 0., 0., 0., 0., 0., 0., 0., 0., 0., 0., 0.,\n",
       "       0., 0., 0., 0., 0., 1., 0., 0., 0., 0., 0., 0., 0., 0., 0., 0., 0.,\n",
       "       0., 1., 0., 0., 0., 0., 0., 0., 0., 0., 0., 0., 1., 0., 0., 0., 0.,\n",
       "       0., 1., 0., 0., 0., 0., 0., 0., 0., 0., 0., 0., 0., 0., 0., 0., 0.,\n",
       "       0., 1., 1., 0., 0., 0., 0., 0., 0., 0., 0., 0., 0., 0., 0., 0., 0.,\n",
       "       0., 0., 0., 0., 0., 0., 0., 0., 0., 0., 0., 0., 0., 0., 0., 0., 1.,\n",
       "       0., 0., 0., 0., 0., 0., 0., 0., 0., 0., 0., 0., 0., 0., 0., 0., 0.,\n",
       "       0., 0., 0., 0., 0., 0., 0., 0., 0., 0., 0., 0., 0., 0., 0., 0., 0.,\n",
       "       0., 0., 0., 0., 0., 0., 0., 0., 0., 0., 0., 0., 0., 0., 0., 1., 0.,\n",
       "       0., 0., 0., 0., 0., 0., 0., 0., 1., 0., 0., 1., 0., 0., 0., 0., 0.,\n",
       "       0., 1., 0., 0., 0., 0., 0., 0., 0., 0., 0., 0., 0., 0., 0., 0., 0.,\n",
       "       0., 0., 0., 0., 0., 0., 0., 0., 0., 0., 0., 0., 0., 0., 1., 0., 0.,\n",
       "       0., 0., 0., 0., 0., 0., 0., 0., 0., 0., 1., 0., 0., 0., 1., 0., 0.,\n",
       "       0., 0., 0., 0., 0., 0., 0., 0., 0., 1., 0., 0., 0., 0., 0., 1., 0.,\n",
       "       0., 0., 1., 0., 0., 0., 0., 0., 1., 0., 0., 0., 0., 0., 0., 0., 0.,\n",
       "       0., 0., 0., 0., 1., 0., 0., 0., 0., 0., 0., 0., 0., 1., 1., 0., 0.,\n",
       "       1., 0., 0., 0., 0., 0., 0., 0., 0., 0., 0., 0., 0., 0., 0., 0., 0.,\n",
       "       0., 0., 0., 0., 1., 0., 0., 0., 0., 0., 1., 0., 0., 0., 0., 1., 0.,\n",
       "       0., 0., 1., 0., 0., 0., 0., 0., 0., 0., 0., 0., 1., 0., 0., 0., 0.,\n",
       "       0., 0., 0., 1., 0., 0., 1., 0., 0., 0., 0., 0., 0., 0., 0., 0., 0.,\n",
       "       0., 0., 0., 0., 0., 0., 0., 0., 0., 0., 0., 0., 0., 0., 0., 0., 0.,\n",
       "       0., 0., 0., 0., 0., 0., 0., 0., 0., 0., 0., 0., 1., 0., 1., 0., 0.,\n",
       "       0., 0., 0., 0., 0., 0., 0., 0., 0., 1., 0., 1., 0., 0., 0., 0., 0.,\n",
       "       0., 0., 0., 0., 0., 0., 0., 0., 0., 0., 0., 0., 0., 0., 0., 0., 0.,\n",
       "       0., 0., 0., 0., 0., 0., 0., 0., 0., 0., 0., 0., 0., 0., 0., 0., 0.,\n",
       "       0., 0., 0., 0., 0., 0., 0., 0., 0., 0., 0., 0., 0., 0., 0., 0., 0.,\n",
       "       0., 0., 0., 0., 0., 0., 0., 0., 0., 0., 0., 0., 0., 0., 0., 0., 0.,\n",
       "       0., 0., 0., 0., 0., 0., 0., 0., 0., 0., 0., 0., 0., 0., 0., 0., 0.,\n",
       "       0., 0., 0., 0., 0., 0., 0., 0., 0., 0., 0., 0., 0., 0., 0., 0., 0.,\n",
       "       0., 0., 0., 0., 0., 0., 0., 0., 1., 0., 0., 0., 0., 0., 0., 0., 0.,\n",
       "       0., 0., 0., 0., 0.])"
      ]
     },
     "execution_count": 46,
     "metadata": {},
     "output_type": "execute_result"
    }
   ],
   "source": [
    "test_rfc"
   ]
  },
  {
   "cell_type": "code",
   "execution_count": 47,
   "metadata": {},
   "outputs": [],
   "source": [
    "names = [name for name in os.listdir('Test')]\n",
    "test_yy = np.column_stack((names, test_rfc))\n",
    "test_yy = test_yy.astype(object)"
   ]
  },
  {
   "cell_type": "code",
   "execution_count": 48,
   "metadata": {},
   "outputs": [],
   "source": [
    "np.savetxt(\"Result_using_randforest.csv\", test_yy, delimiter = ',', header = \"image_id,melanoma\", comments = '', fmt = '%5s')"
   ]
  },
  {
   "cell_type": "markdown",
   "metadata": {},
   "source": [
    "# Course Image-Mining\n",
    "-------------------------------------------------------------------------------------------------------------------------------\n",
    "    Une compétition prépare à la classe.\n",
    "    \n",
    "    Kaggle--Cancer_Melanome\n",
    "-------------------------------------------------------------------------------------------------------------------------------\n",
    "_______________________________________________________________________________________________________________________________"
   ]
  }
 ],
 "metadata": {
  "kernelspec": {
   "display_name": "Python 3",
   "language": "python",
   "name": "python3"
  },
  "language_info": {
   "codemirror_mode": {
    "name": "ipython",
    "version": 3
   },
   "file_extension": ".py",
   "mimetype": "text/x-python",
   "name": "python",
   "nbconvert_exporter": "python",
   "pygments_lexer": "ipython3",
   "version": "3.7.4"
  }
 },
 "nbformat": 4,
 "nbformat_minor": 2
}
